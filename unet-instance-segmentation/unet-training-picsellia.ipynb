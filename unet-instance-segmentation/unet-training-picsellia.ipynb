{
  "cells": [
    {
      "cell_type": "code",
      "execution_count": null,
      "metadata": {
        "collapsed": true
      },
      "outputs": [],
      "source": [
        "import logging\n",
        "import os\n",
        "\n",
        "import keras\n",
        "from picsellia.types.enums import LogType\n",
        "\n",
        "from modeling.trainer import UnetSegmentationTrainer\n",
        "\n",
        "os.environ[\"PICSELLIA_SDK_CUSTOM_LOGGING\"] = \"True\"\n",
        "os.environ[\"PICSELLIA_SDK_DOWNLOAD_BAR_MODE\"] = \"2\"\n",
        "logging.getLogger(\"picsellia\").setLevel(logging.INFO)\n",
        "os.environ[\"api_token\"] = \"\"\n",
        "os.environ[\"experiment_id\"] = \"\"\n",
        "\n",
        "training_pipeline = UnetSegmentationTrainer()\n",
        "training_pipeline.prepare_data_for_training()\n",
        "experiment = training_pipeline.experiment\n",
        "\n",
        "class LogTrainingMetrics(keras.callbacks.Callback):\n",
        "    def on_epoch_end(self, epoch, logs=None):\n",
        "        print(\"logs on_epoch_end: \", logs)\n",
        "        for metric_name in logs.keys():\n",
        "            experiment.log(\n",
        "                name=metric_name, type=LogType.LINE, data=float(logs[metric_name])\n",
        "            )\n",
        "\n",
        "\n",
        "training_pipeline.callbacks.append(LogTrainingMetrics())\n",
        "training_pipeline.train()\n",
        "training_pipeline.eval()\n"
      ]
    }
  ],
  "metadata": {
    "kernelspec": {
      "display_name": "Python 3",
      "language": "python",
      "name": "python3"
    },
    "language_info": {
      "codemirror_mode": {
        "name": "ipython",
        "version": 2
      },
      "file_extension": ".py",
      "mimetype": "text/x-python",
      "name": "python",
      "nbconvert_exporter": "python",
      "pygments_lexer": "ipython2",
      "version": "2.7.6"
    }
  },
  "nbformat": 4,
  "nbformat_minor": 0
}
